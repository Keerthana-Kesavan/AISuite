{
  "nbformat": 4,
  "nbformat_minor": 0,
  "metadata": {
    "colab": {
      "provenance": []
    },
    "kernelspec": {
      "name": "python3",
      "display_name": "Python 3"
    },
    "language_info": {
      "name": "python"
    }
  },
  "cells": [
    {
      "cell_type": "code",
      "execution_count": null,
      "metadata": {
        "collapsed": true,
        "id": "bG0KnctnrMT_"
      },
      "outputs": [],
      "source": [
        "# Install AI Suite\n",
        "!pip install aisuite[all]"
      ]
    },
    {
      "cell_type": "code",
      "source": [
        "from pprint import pprint as pp\n",
        "# Set a custom width for pretty-printing\n",
        "def pprint(data, width=80):\n",
        "    \"\"\"Pretty print data with a specified width.\"\"\"\n",
        "    pp(data, width=width)# List of model identifiers to query"
      ],
      "metadata": {
        "id": "QZ85XxZurVTY"
      },
      "execution_count": 2,
      "outputs": []
    },
    {
      "cell_type": "code",
      "source": [
        "import aisuite as ai\n",
        "\n",
        "# Initialize the AI client for accessing the language model\n",
        "client = ai.Client()\n",
        "\n",
        "# Define a conversation with a system message and a user message\n",
        "messages = [\n",
        "    {\"role\": \"system\", \"content\": \"You are a helpful agent, who answers with brevity.\"},\n",
        "    {\"role\": \"user\", \"content\": 'Hi'},\n",
        "]\n",
        "\n",
        "# Request a response from the model\n",
        "response = client.chat.completions.create(model=\"groq:llama-3.2-3b-preview\", messages=messages)\n",
        "\n",
        "# Print the model's response\n",
        "print(response.choices[0].message.content)"
      ],
      "metadata": {
        "colab": {
          "base_uri": "https://localhost:8080/"
        },
        "id": "klzaIeiurzCB",
        "outputId": "9fc72d17-4d71-4dad-bcaf-fee649452468"
      },
      "execution_count": 4,
      "outputs": [
        {
          "output_type": "stream",
          "name": "stdout",
          "text": [
            "How can I assist you today?\n"
          ]
        }
      ]
    },
    {
      "cell_type": "code",
      "source": [
        "import os\n",
        "from getpass import getpass\n",
        "os.environ['GROQ_API_KEY'] = getpass('Enter your GROQ API key: ')"
      ],
      "metadata": {
        "colab": {
          "base_uri": "https://localhost:8080/"
        },
        "id": "jbeD0S2qrYQY",
        "outputId": "f01608e1-31a0-4fa2-d896-20a67898d85e"
      },
      "execution_count": 3,
      "outputs": [
        {
          "name": "stdout",
          "output_type": "stream",
          "text": [
            "Enter your GROQ API key: ··········\n"
          ]
        }
      ]
    },
    {
      "cell_type": "code",
      "source": [
        "os.environ['OPENAI_API_KEY'] = getpass('Enter your OPENAI API key: ')\n",
        "os.environ['ANTHROPIC_API_KEY'] = getpass('Enter your ANTHROPIC API key: ')"
      ],
      "metadata": {
        "colab": {
          "base_uri": "https://localhost:8080/"
        },
        "id": "QYMq_xIosqFX",
        "outputId": "309375f1-d53a-450d-eade-7dabb24dff06"
      },
      "execution_count": 5,
      "outputs": [
        {
          "name": "stdout",
          "output_type": "stream",
          "text": [
            "Enter your OPENAI API key: ··········\n",
            "Enter your ANTHROPIC API key: ··········\n"
          ]
        }
      ]
    },
    {
      "cell_type": "code",
      "source": [
        "def ask(message, sys_message=\"You are a helpful agent.\",\n",
        "         model=\"groq:llama-3.2-3b-preview\"):\n",
        "    # Initialize the AI client for accessing the language model\n",
        "    client = ai.Client()\n",
        "\n",
        "    # Construct the messages list for the chat\n",
        "    messages = [\n",
        "        {\"role\": \"system\", \"content\": sys_message},\n",
        "        {\"role\": \"user\", \"content\": message}\n",
        "    ]\n",
        "\n",
        "    # Send the messages to the model and get the response\n",
        "    response = client.chat.completions.create(model=model, messages=messages)\n",
        "\n",
        "    # Return the content of the model's response\n",
        "    return response.choices[0].message.content"
      ],
      "metadata": {
        "id": "_32RnsKdvGlB"
      },
      "execution_count": 12,
      "outputs": []
    },
    {
      "cell_type": "markdown",
      "source": [
        "**Scenario 1: Handling an Emotional Customer**\n",
        "\n",
        "**Question:**\n",
        "*\"Your delivery is late, and this is not the first time! I am very upset with your service!\"*"
      ],
      "metadata": {
        "id": "JmyFcMJoCIV1"
      }
    },
    {
      "cell_type": "code",
      "source": [
        "\n",
        "import random\n",
        "# List of AI model providers to query\n",
        "providers = [\n",
        "    'groq:llama3-70b-8192',\n",
        "    'openai:gpt-4o',\n",
        "    'anthropic:claude-3-5-sonnet-20240620'\n",
        "]\n",
        "\n",
        "\n",
        "# Loop to generate and evaluate the responses\n",
        "for _ in range(1):\n",
        "    # Shuffle the providers list to randomly select models for each iteration\n",
        "    random.shuffle(providers)\n",
        "\n",
        "    # Generate a response using the first provider\n",
        "    Groq = ask('How do you respond to this customer complaint- Your delivery is late, and this is not the first time! I am very upset with your service!', model=providers[0])\n",
        "\n",
        "    # Get variations of the scene from the second and third providers\n",
        "    openAI = ask('How do you respond to this customer complaint- Your delivery is late, and this is not the first time! I am very upset with your service!', model=providers[1])\n",
        "    anthropic = ask('How do you respond to this customer complaint- Your delivery is late, and this is not the first time! I am very upset with your service!', model=providers[2])\n",
        "\n",
        "\n",
        "    # Print the generated response and the two variations\n",
        "    pprint(f\"Groq:\\n  {groq}\\n\\n\")\n",
        "    pprint(f\"OpenAI:\\n  {openAI}\\n\\n\")\n",
        "    pprint(f\"Anthropic:\\n  {anthorpic}\\n\\n\")"
      ],
      "metadata": {
        "colab": {
          "base_uri": "https://localhost:8080/"
        },
        "id": "Xi5SmFRoAn33",
        "outputId": "32e71f3e-2523-46ac-c5c4-0580240394e3"
      },
      "execution_count": 27,
      "outputs": [
        {
          "output_type": "stream",
          "name": "stdout",
          "text": [
            "('Groq:\\n'\n",
            " ' \\xa0Responding to a customer complaint requires empathy, understanding, and '\n",
            " \"a commitment to resolve the issue. Here's a suggested response:\\n\"\n",
            " '\\n'\n",
            " '---\\n'\n",
            " '\\n'\n",
            " \"Dear [Customer's Name],\\n\"\n",
            " '\\n'\n",
            " 'Thank you for bringing this to our attention. I sincerely apologize for the '\n",
            " 'inconvenience caused by the delay in your delivery. I understand how '\n",
            " 'frustrating this must be, especially since it has happened more than once.\\n'\n",
            " '\\n'\n",
            " \"Please know that we are committed to providing reliable service, and it's \"\n",
            " 'clear that we have let you down. I am currently looking into this matter to '\n",
            " 'understand what went wrong and to prevent it from happening again in the '\n",
            " 'future. \\n'\n",
            " '\\n'\n",
            " 'In the meantime, I would like to offer you [a discount, refund, or other '\n",
            " 'compensation if appropriate] as a gesture of our apology and appreciation of '\n",
            " 'your patience.\\n'\n",
            " '\\n'\n",
            " \"I will update you shortly once I have more information. If there's anything \"\n",
            " 'specific you would like me to focus on or if you have any further questions, '\n",
            " 'feel free to reach out.\\n'\n",
            " '\\n'\n",
            " 'Thank you for your understanding and for giving us the opportunity to make '\n",
            " 'this right.\\n'\n",
            " '\\n'\n",
            " 'Warm regards,\\n'\n",
            " '\\n'\n",
            " '[Your Name]\\n'\n",
            " '[Your Position]\\n'\n",
            " '[Your Contact Information]\\n'\n",
            " '\\n'\n",
            " '--- \\n'\n",
            " '\\n'\n",
            " \"Tailor the response to the specific context and the company's policies, and \"\n",
            " 'ensure that you genuinely follow through on any promises made.\\n'\n",
            " '\\n')\n",
            "('OpenAI:\\n'\n",
            " \" \\xa0Here's a suggested response to that customer complaint:\\n\"\n",
            " '\\n'\n",
            " '\"I sincerely apologize for the late delivery and understand your '\n",
            " \"frustration, especially given this isn't the first time it's happened. We \"\n",
            " \"clearly failed to meet your expectations, and that's unacceptable. I'd like \"\n",
            " 'to look into what went wrong with your order specifically and see how we can '\n",
            " \"make this right. Could you please provide your order number? I'll personally \"\n",
            " 'ensure this is escalated to our logistics team to prevent future issues. We '\n",
            " 'value your business and want to regain your trust. What can we do to resolve '\n",
            " 'this situation to your satisfaction?\"\\n'\n",
            " '\\n'\n",
            " 'This response:\\n'\n",
            " \"1. Acknowledges the problem and the customer's feelings\\n\"\n",
            " '2. Apologizes sincerely\\n'\n",
            " '3. Takes responsibility without making excuses\\n'\n",
            " '4. Shows a willingness to investigate and fix the issue\\n'\n",
            " '5. Asks for specific information to help resolve the problem\\n'\n",
            " '6. Promises to escalate the concern internally\\n'\n",
            " \"7. Expresses value for the customer's business\\n\"\n",
            " '8. Asks how to make it right\\n'\n",
            " '\\n'\n",
            " 'Remember to follow up promptly and thoroughly after receiving more '\n",
            " 'information from the customer.\\n'\n",
            " '\\n')\n",
            "('Anthropic:\\n'\n",
            " ' \\xa0I apologize sincerely for the delay in your delivery and for the '\n",
            " 'inconvenience it has caused. I understand that this is not the first time '\n",
            " \"you've experienced an issue with our delivery, and for that, I am truly \"\n",
            " 'sorry.\\n'\n",
            " '\\n'\n",
            " 'Can you please provide me with your order number so I can look into this '\n",
            " 'further and investigate what happened? I want to make things right and '\n",
            " 'ensure that you receive your order as soon as possible.\\n'\n",
            " '\\n'\n",
            " \"Additionally, I'd like to offer you a gesture of goodwill for the trouble \"\n",
            " \"you've experienced. Would you like a discount on your current order or a \"\n",
            " 'voucher for your next purchase?\\n'\n",
            " '\\n'\n",
            " \"Please know that I'm committed to resolving this issue and preventing it \"\n",
            " 'from happening again in the future. Your satisfaction is our top priority, '\n",
            " 'and I appreciate your feedback in helping us improve our service.\\n'\n",
            " '\\n')\n"
          ]
        }
      ]
    },
    {
      "cell_type": "markdown",
      "source": [
        "**Scenario 2: Troubleshooting Wi-Fi Issues on a Smart TV**\n",
        "\n",
        "**Question:** *My smart TV keeps disconnecting from Wi-Fi. What should I do?*"
      ],
      "metadata": {
        "id": "YQXH817NCLJW"
      }
    },
    {
      "cell_type": "code",
      "source": [
        "import random\n",
        "# List of AI model providers to query\n",
        "providers = [\n",
        "    'groq:llama3-70b-8192',\n",
        "    'openai:gpt-4o',\n",
        "    'anthropic:claude-3-5-sonnet-20240620'\n",
        "]\n",
        "# Initialize a list to store the best responses\n",
        "best = []\n",
        "\n",
        "# Loop to generate and evaluate the responses\n",
        "for _ in range(1):\n",
        "    # Shuffle the providers list to randomly select models for each iteration\n",
        "    random.shuffle(providers)\n",
        "\n",
        "    # Generate a response using the first provider\n",
        "    groq = ask('My smart TV keeps disconnecting from Wi-Fi. What should I do?', model=providers[0])\n",
        "\n",
        "    # Get variations of the scene from the second and third providers\n",
        "    openAI = ask('My smart TV keeps disconnecting from Wi-Fi. What should I do?', model=providers[1])\n",
        "    anthorpic = ask('My smart TV keeps disconnecting from Wi-Fi. What should I do?', model=providers[2])\n",
        "\n",
        "    # Print the generated response and the two variations\n",
        "    pprint(f\"Groq:\\n  {groq}\\n\\n\")\n",
        "    pprint(f\"OpenAI:\\n  {openAI}\\n\\n\")\n",
        "    pprint(f\"Anthropic:\\n  {anthorpic}\\n\\n\")"
      ],
      "metadata": {
        "colab": {
          "base_uri": "https://localhost:8080/"
        },
        "id": "qplvDjcDCO94",
        "outputId": "ba4fb8a3-84ef-4f88-d166-ff812963b81a"
      },
      "execution_count": 29,
      "outputs": [
        {
          "output_type": "stream",
          "name": "stdout",
          "text": [
            "('Groq:\\n'\n",
            " ' \\xa0If your smart TV keeps disconnecting from Wi-Fi, you can try the '\n",
            " 'following troubleshooting steps to resolve the issue:\\n'\n",
            " '\\n'\n",
            " '1. **Restart Your Devices**: \\n'\n",
            " '   - Turn off your TV, unplug it from the power source, and wait for about '\n",
            " '30 seconds before plugging it back in and turning it on.\\n'\n",
            " '   - Restart your router by unplugging it, waiting 30 seconds, and then '\n",
            " 'plugging it back in.\\n'\n",
            " '\\n'\n",
            " '2. **Check Signal Strength**:\\n'\n",
            " '   - Ensure that your TV is within a reasonable range of your Wi-Fi router. '\n",
            " 'If possible, minimize obstacles such as walls or large furniture that could '\n",
            " 'weaken the signal.\\n'\n",
            " '   - You can also try moving the router closer to the TV or using a Wi-Fi '\n",
            " 'range extender to boost the signal.\\n'\n",
            " '\\n'\n",
            " '3. **Update Software/Firmware**:\\n'\n",
            " '   - Check if there are any software updates available for your smart TV. '\n",
            " \"Keeping your TV's software up-to-date can fix bugs and improve \"\n",
            " 'connectivity.\\n'\n",
            " \"   - Similarly, make sure your router's firmware is up to date.\\n\"\n",
            " '\\n'\n",
            " '4. **Check Network Settings**:\\n'\n",
            " '   - Go into the network settings of your TV and ensure it is connected to '\n",
            " 'the correct Wi-Fi network.\\n'\n",
            " '   - You can try forgetting the network and reconnecting to it. This can '\n",
            " 'sometimes resolve connection issues.\\n'\n",
            " '\\n'\n",
            " '5. **Reduce Network Traffic**:\\n'\n",
            " '   - If there are many devices connected to your network, consider '\n",
            " 'disconnecting some to see if that resolves the issue. Network congestion can '\n",
            " 'impact the stability of the Wi-Fi connection.\\n'\n",
            " '\\n'\n",
            " '6. **Change Wi-Fi Channel**:\\n'\n",
            " '   - Sometimes interference from other networks can cause disconnects. '\n",
            " 'Access your router settings and try changing the Wi-Fi channel to see if it '\n",
            " 'provides a more stable connection.\\n'\n",
            " '\\n'\n",
            " '7. **Try using a Wired Connection**:\\n'\n",
            " '   - If possible, connect your smart TV directly to the router using an '\n",
            " 'Ethernet cable. This can provide a more stable connection compared to '\n",
            " 'Wi-Fi.\\n'\n",
            " '\\n'\n",
            " '8. **Factory Reset**:\\n'\n",
            " '   - As a last resort, you can try performing a factory reset on your TV. '\n",
            " 'Note that this will erase all settings and data, so it should be done only '\n",
            " 'if other solutions don’t work.\\n'\n",
            " '\\n'\n",
            " '9. **Contact Support**:\\n'\n",
            " '   - If none of the above steps work, consider reaching out to the TV '\n",
            " \"manufacturer's customer support for further assistance.\\n\"\n",
            " '\\n'\n",
            " 'Following these steps should help address the issue of your smart TV '\n",
            " 'disconnecting from Wi-Fi.\\n'\n",
            " '\\n')\n",
            "('OpenAI:\\n'\n",
            " \" \\xa0That's frustrating! Don't worry, I'm here to help you troubleshoot the \"\n",
            " \"issue. Let's try to resolve it step by step:\\n\"\n",
            " '\\n'\n",
            " '1. **Restart your TV and router**: Sometimes, a simple reboot can resolve '\n",
            " 'the issue. Turn off your TV and router, wait for 30 seconds, and then turn '\n",
            " 'them back on. This will refresh the connection.\\n'\n",
            " \"2. **Check your Wi-Fi network name and password**: Ensure you're using the \"\n",
            " \"correct Wi-Fi network name (SSID) and password. Double-check your router's \"\n",
            " 'settings or the paperwork that came with it.\\n'\n",
            " '3. **Move your router closer to your TV**: Physical obstructions or distance '\n",
            " 'from the router can cause disconnections. Try moving the router closer to '\n",
            " 'your TV to see if it improves the connection.\\n'\n",
            " '4. **Check for interference from other devices**: Other devices in your home '\n",
            " 'can interfere with your Wi-Fi signal. Try moving devices that use the same '\n",
            " 'frequency band (like cordless phones or microwaves) away from your router '\n",
            " 'and TV.\\n'\n",
            " \"5. **Update your TV's firmware**: Outdated firmware might be causing the \"\n",
            " \"issue. Check your TV's settings for any available firmware updates and \"\n",
            " \"follow the manufacturer's instructions to install them.\\n\"\n",
            " \"6. **Reset your TV's network settings**: Go to your TV's settings, find the \"\n",
            " 'network or Wi-Fi settings, and reset them to their default values. This will '\n",
            " \"vary depending on your TV's brand and model, so refer to the user manual if \"\n",
            " 'needed.\\n'\n",
            " '7. **Use a wired Ethernet connection (if possible)**: If your TV has an '\n",
            " 'Ethernet port, try connecting it to your router using an Ethernet cable. '\n",
            " 'This will help you determine if the issue is specific to Wi-Fi or a problem '\n",
            " 'with your router.\\n'\n",
            " \"8. **Check your router's settings**: Log in to your router's settings \"\n",
            " '(usually by typing its IP address in a web browser) and ensure:\\n'\n",
            " '\\t* The Wi-Fi network is enabled and broadcasting its SSID.\\n'\n",
            " \"\\t* The frequency band is set to 2.4GHz or 5GHz, depending on your TV's \"\n",
            " 'capabilities.\\n'\n",
            " \"\\t* The router's firewall or Quality of Service (QoS) settings aren't \"\n",
            " \"blocking your TV's connection.\\n\"\n",
            " '9. **Contact your internet service provider**: If none of the above steps '\n",
            " 'resolve the issue, reach out to your ISP to see if there are any outages or '\n",
            " 'issues on their end that might be affecting your connection.\\n'\n",
            " \"10. **Contact your TV's manufacturer support**: If you've tried everything \"\n",
            " \"and the issue persists, it's possible that there's a hardware or software \"\n",
            " \"issue with your TV. Reach out to the manufacturer's support team for further \"\n",
            " 'assistance.\\n'\n",
            " '\\n'\n",
            " \"If you're still experiencing issues after trying these steps, feel free to \"\n",
            " 'provide more details about your TV model, router, and internet service '\n",
            " 'provider, and I can try to offer more specific guidance.\\n'\n",
            " '\\n')\n",
            "('Anthropic:\\n'\n",
            " ' \\xa0There are several steps you can take to troubleshoot and potentially '\n",
            " 'resolve the issue of your smart TV disconnecting from Wi-Fi:\\n'\n",
            " '\\n'\n",
            " '1. Restart your TV and router: Turn off both devices, wait for a minute, '\n",
            " 'then turn them back on.\\n'\n",
            " '\\n'\n",
            " '2. Check your Wi-Fi signal strength: Ensure your TV is within range of your '\n",
            " 'router. Consider using a Wi-Fi extender if necessary.\\n'\n",
            " '\\n'\n",
            " \"3. Update your TV's firmware: Check for any available software updates for \"\n",
            " 'your smart TV.\\n'\n",
            " '\\n'\n",
            " \"4. Forget and reconnect to the network: In your TV's settings, forget the \"\n",
            " 'current Wi-Fi network and reconnect to it.\\n'\n",
            " '\\n'\n",
            " \"5. Change your router's channel: Try switching to a less congested Wi-Fi \"\n",
            " 'channel in your router settings.\\n'\n",
            " '\\n'\n",
            " '6. Check for interference: Keep your TV away from other electronic devices '\n",
            " 'that might interfere with the Wi-Fi signal.\\n'\n",
            " '\\n'\n",
            " '7. Use a static IP address: Assign a static IP to your TV in your router '\n",
            " 'settings.\\n'\n",
            " '\\n'\n",
            " \"8. Reset network settings: Reset your TV's network settings to default and \"\n",
            " 'set up the connection again.\\n'\n",
            " '\\n'\n",
            " '9. Use an Ethernet cable: If possible, connect your TV directly to the '\n",
            " 'router using an Ethernet cable.\\n'\n",
            " '\\n'\n",
            " '10. Contact your ISP: If the problem persists, there might be an issue with '\n",
            " 'your internet service.\\n'\n",
            " '\\n'\n",
            " \"If none of these solutions work, consider contacting the TV manufacturer's \"\n",
            " 'customer support for further assistance.\\n'\n",
            " '\\n')\n"
          ]
        }
      ]
    },
    {
      "cell_type": "markdown",
      "source": [
        "**Scenario 3: Handling a Duplicate Charge Complaint**\n",
        "\n",
        "**Question:**\n",
        "*\"You charged me twice for the same order. I need my money back NOW!\"*"
      ],
      "metadata": {
        "id": "jNiAQkrHEQjz"
      }
    },
    {
      "cell_type": "code",
      "source": [
        "import random\n",
        "# List of AI model providers to query\n",
        "providers = [\n",
        "    'groq:llama3-70b-8192',\n",
        "    'openai:gpt-4o',\n",
        "    'anthropic:claude-3-5-sonnet-20240620'\n",
        "]\n",
        "# Initialize a list to store the best responses\n",
        "best = []\n",
        "\n",
        "# Loop to generate and evaluate the responses\n",
        "for _ in range(1):\n",
        "    # Shuffle the providers list to randomly select models for each iteration\n",
        "    random.shuffle(providers)\n",
        "\n",
        "    # Generate a response using the first provider\n",
        "    groq = ask('How do you respond to this customer complaint-You charged me twice for the same order. I need my money back NOW!', model=providers[0])\n",
        "\n",
        "    # Get variations of the response from the second and third providers\n",
        "    openAI = ask('How do you respond to this customer complaint-You charged me twice for the same order. I need my money back NOW!', model=providers[1])\n",
        "    anthorpic = ask('How do you respond to this customer complaint-You charged me twice for the same order. I need my money back NOW!', model=providers[2])\n",
        "    #scene_3 = ask('Generate a scene of La La Land set in New York City based on this description: ' + scene_description, model=providers[0])\n",
        "\n",
        "    # Print the generated the responses and the two variations\n",
        "    pprint(f\"Groq:\\n  {groq}\\n\\n\")\n",
        "    pprint(f\"OpenAI:\\n  {openAI}\\n\\n\")\n",
        "    pprint(f\"Anthropic:\\n  {anthorpic}\\n\\n\")"
      ],
      "metadata": {
        "colab": {
          "base_uri": "https://localhost:8080/"
        },
        "id": "dfZE1-IREXPF",
        "outputId": "93c1ec7d-7afa-4b16-fc65-cd64454e96ec"
      },
      "execution_count": 33,
      "outputs": [
        {
          "output_type": "stream",
          "name": "stdout",
          "text": [
            "('Groq:\\n'\n",
            " \" \\xa0I'm so sorry to hear that you've been charged twice for the same order! \"\n",
            " 'I can imagine how frustrating that must be.\\n'\n",
            " '\\n'\n",
            " \"I'm happy to help you resolve this issue as quickly as possible. Can you \"\n",
            " 'please provide me with your order number or the email address associated '\n",
            " 'with your account so I can look into this further?\\n'\n",
            " '\\n'\n",
            " \"Additionally, I'll need to verify some information to ensure that I'm \"\n",
            " 'assisting the correct customer. Please confirm your full name and the amount '\n",
            " 'that was incorrectly charged.\\n'\n",
            " '\\n'\n",
            " \"I want to assure you that I'm committed to resolving this issue and \"\n",
            " \"refunding the duplicate charge as soon as possible. I'll do my best to \"\n",
            " 'process the refund today, and you should receive an email confirmation once '\n",
            " \"it's been processed.\\n\"\n",
            " '\\n'\n",
            " \"If there's anything else you'd like to share or if you have any questions, \"\n",
            " \"please don't hesitate to ask. Your satisfaction is my top priority, and I \"\n",
            " 'appreciate your patience and cooperation in this matter.\\n'\n",
            " '\\n')\n",
            "('OpenAI:\\n'\n",
            " \" \\xa0When responding to a customer complaint like this, it's important to be \"\n",
            " 'empathetic, acknowledge the issue, and provide a clear path toward '\n",
            " \"resolution. Here's a possible response:\\n\"\n",
            " '\\n'\n",
            " '---\\n'\n",
            " '\\n'\n",
            " \"Dear [Customer's Name],\\n\"\n",
            " '\\n'\n",
            " 'Thank you for bringing this to our attention, and I sincerely apologize for '\n",
            " 'any inconvenience this may have caused. I understand how frustrating it can '\n",
            " 'be to see unexpected charges.\\n'\n",
            " '\\n'\n",
            " 'I assure you that we will look into this matter immediately. To resolve this '\n",
            " 'as quickly as possible, could you please provide the following details?\\n'\n",
            " '\\n'\n",
            " '- The order number\\n'\n",
            " '- The date of the transaction\\n'\n",
            " '- Any reference numbers from your bank statement if available\\n'\n",
            " '\\n'\n",
            " 'Once we have this information, we will investigate the issue and ensure that '\n",
            " 'any incorrect charges are refunded promptly. \\n'\n",
            " '\\n'\n",
            " 'Thank you for your patience and understanding. We appreciate your business '\n",
            " 'and are committed to resolving this issue to your satisfaction.\\n'\n",
            " '\\n'\n",
            " 'Best regards,\\n'\n",
            " '\\n'\n",
            " '[Your Name]  \\n'\n",
            " '[Your Position]  \\n'\n",
            " '[Company Name]  \\n'\n",
            " '[Contact Information]\\n'\n",
            " '\\n'\n",
            " '--- \\n'\n",
            " '\\n'\n",
            " \"This response acknowledges the customer's concern, apologizes for the error, \"\n",
            " 'and outlines the next steps to resolve the issue.\\n'\n",
            " '\\n')\n",
            "('Anthropic:\\n'\n",
            " \" \\xa0Here's a suggested response to that customer complaint:\\n\"\n",
            " '\\n'\n",
            " '\"I sincerely apologize for the duplicate charge on your order. I understand '\n",
            " 'how frustrating this situation is, and I want to assure you that we will '\n",
            " \"resolve this immediately. I'm initiating a refund for the extra charge right \"\n",
            " 'now, which should appear in your account within 3-5 business days. \\n'\n",
            " '\\n'\n",
            " 'Please allow me to double-check your order details to ensure everything else '\n",
            " 'is correct. Is there anything else about your order that needs attention?\\n'\n",
            " '\\n'\n",
            " \"Again, I'm very sorry for this error and any inconvenience it has caused. We \"\n",
            " 'truly value your business and appreciate your patience as we correct this '\n",
            " \"mistake. If you have any further questions or concerns, please don't \"\n",
            " 'hesitate to let me know.\"\\n'\n",
            " '\\n'\n",
            " 'This response:\\n'\n",
            " '1. Acknowledges the error and apologizes sincerely\\n'\n",
            " \"2. Shows understanding of the customer's frustration\\n\"\n",
            " '3. Provides immediate action (initiating the refund)\\n'\n",
            " '4. Gives a timeframe for when the refund will be processed\\n'\n",
            " '5. Offers to review the rest of the order for accuracy\\n'\n",
            " \"6. Reiterates the apology and appreciation for the customer's business\\n\"\n",
            " '7. Invites further questions or concerns\\n'\n",
            " '\\n'\n",
            " 'The tone is professional, empathetic, and focused on resolving the issue '\n",
            " 'quickly.\\n'\n",
            " '\\n')\n"
          ]
        }
      ]
    }
  ]
}